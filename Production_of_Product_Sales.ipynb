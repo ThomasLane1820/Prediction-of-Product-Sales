{
  "nbformat": 4,
  "nbformat_minor": 0,
  "metadata": {
    "colab": {
      "provenance": [],
      "authorship_tag": "ABX9TyNVdwy+7eYLlwLW6KSIkwx1",
      "include_colab_link": true
    },
    "kernelspec": {
      "name": "python3",
      "display_name": "Python 3"
    },
    "language_info": {
      "name": "python"
    }
  },
  "cells": [
    {
      "cell_type": "markdown",
      "metadata": {
        "id": "view-in-github",
        "colab_type": "text"
      },
      "source": [
        "<a href=\"https://colab.research.google.com/github/ThomasLane1820/Prediction-of-Product-Sales/blob/main/Production_of_Product_Sales.ipynb\" target=\"_parent\"><img src=\"https://colab.research.google.com/assets/colab-badge.svg\" alt=\"Open In Colab\"/></a>"
      ]
    },
    {
      "cell_type": "markdown",
      "source": [
        "# Prediction of Product Sales\n",
        "- Author: Thomas Lane\n"
      ],
      "metadata": {
        "id": "RtCRaCcqu2L8"
      }
    },
    {
      "cell_type": "markdown",
      "source": [
        "## Project overview"
      ],
      "metadata": {
        "id": "-A96oWDivLMX"
      }
    },
    {
      "cell_type": "markdown",
      "source": [
        "## Load and Inspect Data"
      ],
      "metadata": {
        "id": "R3ssl9wbvOnA"
      }
    },
    {
      "cell_type": "code",
      "source": [],
      "metadata": {
        "id": "OMIHs7ELvfJu"
      },
      "execution_count": null,
      "outputs": []
    },
    {
      "cell_type": "markdown",
      "source": [
        "## Clean Data"
      ],
      "metadata": {
        "id": "oUl4j98nvQgP"
      }
    },
    {
      "cell_type": "code",
      "source": [],
      "metadata": {
        "id": "wuAInZ6jvgQ_"
      },
      "execution_count": null,
      "outputs": []
    },
    {
      "cell_type": "markdown",
      "source": [
        "## Exploratory Data analysis"
      ],
      "metadata": {
        "id": "WdBehZcPvTgw"
      }
    },
    {
      "cell_type": "code",
      "source": [],
      "metadata": {
        "id": "99Y_RSbpvgee"
      },
      "execution_count": null,
      "outputs": []
    },
    {
      "cell_type": "markdown",
      "source": [
        "## Feature inspection"
      ],
      "metadata": {
        "id": "MzFqDzOvvXQ8"
      }
    },
    {
      "cell_type": "code",
      "execution_count": null,
      "metadata": {
        "id": "eAc0vdFKug-a"
      },
      "outputs": [],
      "source": []
    }
  ]
}